{
  "cells": [
    {
      "cell_type": "code",
      "execution_count": null,
      "metadata": {
        "colab": {
          "base_uri": "https://localhost:8080/"
        },
        "id": "_3DvKqAiJWxz",
        "outputId": "fbd96c7e-ca3e-4219-834f-90f07ecbebe7"
      },
      "outputs": [
        {
          "output_type": "stream",
          "name": "stdout",
          "text": [
            "Looking in indexes: https://pypi.org/simple, https://us-python.pkg.dev/colab-wheels/public/simple/\n",
            "Requirement already satisfied: yfinance in /usr/local/lib/python3.10/dist-packages (0.2.18)\n",
            "Requirement already satisfied: pandas>=1.3.0 in /usr/local/lib/python3.10/dist-packages (from yfinance) (1.5.3)\n",
            "Requirement already satisfied: numpy>=1.16.5 in /usr/local/lib/python3.10/dist-packages (from yfinance) (1.22.4)\n",
            "Requirement already satisfied: requests>=2.26 in /usr/local/lib/python3.10/dist-packages (from yfinance) (2.27.1)\n",
            "Requirement already satisfied: multitasking>=0.0.7 in /usr/local/lib/python3.10/dist-packages (from yfinance) (0.0.11)\n",
            "Requirement already satisfied: lxml>=4.9.1 in /usr/local/lib/python3.10/dist-packages (from yfinance) (4.9.2)\n",
            "Requirement already satisfied: appdirs>=1.4.4 in /usr/local/lib/python3.10/dist-packages (from yfinance) (1.4.4)\n",
            "Requirement already satisfied: pytz>=2022.5 in /usr/local/lib/python3.10/dist-packages (from yfinance) (2022.7.1)\n",
            "Requirement already satisfied: frozendict>=2.3.4 in /usr/local/lib/python3.10/dist-packages (from yfinance) (2.3.7)\n",
            "Requirement already satisfied: cryptography>=3.3.2 in /usr/local/lib/python3.10/dist-packages (from yfinance) (40.0.2)\n",
            "Requirement already satisfied: beautifulsoup4>=4.11.1 in /usr/local/lib/python3.10/dist-packages (from yfinance) (4.11.2)\n",
            "Requirement already satisfied: html5lib>=1.1 in /usr/local/lib/python3.10/dist-packages (from yfinance) (1.1)\n",
            "Requirement already satisfied: soupsieve>1.2 in /usr/local/lib/python3.10/dist-packages (from beautifulsoup4>=4.11.1->yfinance) (2.4.1)\n",
            "Requirement already satisfied: cffi>=1.12 in /usr/local/lib/python3.10/dist-packages (from cryptography>=3.3.2->yfinance) (1.15.1)\n",
            "Requirement already satisfied: six>=1.9 in /usr/local/lib/python3.10/dist-packages (from html5lib>=1.1->yfinance) (1.16.0)\n",
            "Requirement already satisfied: webencodings in /usr/local/lib/python3.10/dist-packages (from html5lib>=1.1->yfinance) (0.5.1)\n",
            "Requirement already satisfied: python-dateutil>=2.8.1 in /usr/local/lib/python3.10/dist-packages (from pandas>=1.3.0->yfinance) (2.8.2)\n",
            "Requirement already satisfied: urllib3<1.27,>=1.21.1 in /usr/local/lib/python3.10/dist-packages (from requests>=2.26->yfinance) (1.26.15)\n",
            "Requirement already satisfied: certifi>=2017.4.17 in /usr/local/lib/python3.10/dist-packages (from requests>=2.26->yfinance) (2022.12.7)\n",
            "Requirement already satisfied: charset-normalizer~=2.0.0 in /usr/local/lib/python3.10/dist-packages (from requests>=2.26->yfinance) (2.0.12)\n",
            "Requirement already satisfied: idna<4,>=2.5 in /usr/local/lib/python3.10/dist-packages (from requests>=2.26->yfinance) (3.4)\n",
            "Requirement already satisfied: pycparser in /usr/local/lib/python3.10/dist-packages (from cffi>=1.12->cryptography>=3.3.2->yfinance) (2.21)\n",
            "Looking in indexes: https://pypi.org/simple, https://us-python.pkg.dev/colab-wheels/public/simple/\n",
            "Requirement already satisfied: scikit-learn in /usr/local/lib/python3.10/dist-packages (1.2.2)\n",
            "Requirement already satisfied: numpy>=1.17.3 in /usr/local/lib/python3.10/dist-packages (from scikit-learn) (1.22.4)\n",
            "Requirement already satisfied: scipy>=1.3.2 in /usr/local/lib/python3.10/dist-packages (from scikit-learn) (1.10.1)\n",
            "Requirement already satisfied: joblib>=1.1.1 in /usr/local/lib/python3.10/dist-packages (from scikit-learn) (1.2.0)\n",
            "Requirement already satisfied: threadpoolctl>=2.0.0 in /usr/local/lib/python3.10/dist-packages (from scikit-learn) (3.1.0)\n"
          ]
        }
      ],
      "source": [
        "!pip install yfinance\n",
        "!pip install scikit-learn\n",
        "import yfinance as yf\n",
        "import pandas as pd\n",
        "import os\n",
        "import numpy as np\n",
        "\n",
        "\n",
        "if os.path.exists(\"sp500.csv\"):\n",
        "    sp500 = pd.read_csv(\"sp500.csv\", index_col=0)\n",
        "else:\n",
        "    sp500 = yf.Ticker(\"^GSPC\")\n",
        "    sp500 = sp500.history(period=\"max\")\n",
        "    sp500.to_csv(\"sp500.csv\")\n"
      ]
    },
    {
      "cell_type": "code",
      "execution_count": null,
      "metadata": {
        "id": "oSolloGjJYwE"
      },
      "outputs": [],
      "source": [
        "sp500.index = pd.to_datetime(sp500.index,utc=True)\n",
        "sp500[\"Tomorrow\"] = sp500[\"Close\"].shift(-1)\n",
        "sp500[\"Target\"] = (sp500[\"Tomorrow\"] > sp500[\"Close\"]).astype(int)\n",
        "sp500 = sp500.loc[\"1990-01-01\":].copy()\n"
      ]
    },
    {
      "cell_type": "code",
      "execution_count": null,
      "metadata": {
        "id": "sIcxIc3KMSvI"
      },
      "outputs": [],
      "source": [
        "def print_table(data):\n",
        "    print(tabulate(data.tail(5), headers=\"keys\", tablefmt=\"psql\"))\n",
        "def drop_high_missing_columns(data, threshold=0.8):\n",
        "    missing_ratio = data.isnull().mean()\n",
        "    columns_to_drop = missing_ratio[missing_ratio > threshold].index\n",
        "    data = data.drop(columns_to_drop, axis=1)\n",
        "    return data\n",
        "from sklearn.impute import SimpleImputer\n",
        "\n",
        "def impute_missing_values(data, strategy='mean'):\n",
        "    imputer = SimpleImputer(strategy=strategy)\n",
        "    imputed_data = pd.DataFrame(imputer.fit_transform(data), columns=data.columns)\n",
        "    return imputed_data\n",
        "\n",
        "def handle_missing_values(data, method='impute', strategy='mean'):\n",
        "    if method == 'drop':\n",
        "        \n",
        "        data = data.dropna()\n",
        "    elif method == 'fillna':\n",
        "       \n",
        "        data = data.fillna(strategy)\n",
        "    elif method == 'impute':\n",
        "      \n",
        "        from sklearn.impute import SimpleImputer\n",
        "        imputer = SimpleImputer(strategy=strategy)\n",
        "        imputed_data = pd.DataFrame(imputer.fit_transform(data), columns=data.columns)\n",
        "        data = imputed_data\n",
        "    else:\n",
        "        raise ValueError(\"Invalid method specified. Choose from 'drop', 'fillna', or 'impute'.\")\n",
        "    \n",
        "    return data\n",
        "\n",
        "def clean_data(data):\n",
        "    \n",
        "    data = data.dropna()\n",
        "    \n",
        "    \n",
        "    Q1 = data.quantile(0.25)\n",
        "    Q3 = data.quantile(0.75)\n",
        "    IQR = Q3 - Q1\n",
        "    data = data[~((data < (Q1 - 1.5 * IQR)) | (data > (Q3 + 1.5 * IQR))).any(axis=1)]\n",
        "\n",
        "   \n",
        "    data = data.drop_duplicates()\n",
        "\n",
        "    \n",
        "    data = data.fillna(method='ffill')\n",
        "    data=drop_high_missing_columns(data)\n",
        "    data=handle_missing_values(data)\n",
        "    print(\"\\n\\n-----------Data Cleaning Done----------------\\n\")\n",
        "    print_table(data) \n",
        "    return data\n",
        "\n",
        "def preprocess_data(data):\n",
        "   \n",
        "    data_min_max_scaled = (data - data.min()) / (data.max() - data.min())\n",
        "\n",
        "  \n",
        "    data_standardized = (data_min_max_scaled - data_min_max_scaled.mean()) / data_min_max_scaled.std()\n",
        "    \n",
        "\n",
        "    data_preprocessed = np.log1p(data_standardized)\n",
        "    data_preprocessed_no_nan = handle_missing_values(data_preprocessed, method='impute', strategy='mean')\n",
        "    print(\"\\n\\n----------------Data Preprocessing Done-------------\\n\")\n",
        "    print_table(data_preprocessed_no_nan) \n",
        "    \n",
        "    return data_preprocessed_no_nan\n",
        "\n",
        "\n"
      ]
    },
    {
      "cell_type": "markdown",
      "source": [
        "print_table(data): This function prints the last 5 rows of a DataFrame data in a tabular format using the tabulate function.\n",
        "\n",
        "drop_high_missing_columns(data, threshold=0.8): This function calculates the missing ratio for each column in the DataFrame data. It drops the columns that have a missing ratio greater than the specified threshold and returns the updated DataFrame.\n",
        "\n",
        "impute_missing_values(data, strategy='mean'): This function uses the SimpleImputer class from scikit-learn to impute missing values in the DataFrame data using the specified strategy (default is 'mean'). It returns a new DataFrame with the imputed values.\n",
        "\n",
        "handle_missing_values(data, method='impute', strategy='mean'): This function handles missing values in the DataFrame data based on the specified method. If method is 'drop', it drops rows with missing values. If method is 'fillna', it fills missing values using the specified strategy. If method is 'impute', it uses the impute_missing_values function to impute missing values. It returns the updated DataFrame.\n",
        "\n",
        "clean_data(data): This function performs various data cleaning operations on the DataFrame data. It drops rows with missing values, removes outliers using the IQR method, drops duplicated rows, and fills remaining missing values using forward fill. It then prints the cleaned data using the print_table function and returns the cleaned DataFrame.\n",
        "\n",
        "preprocess_data(data): This function preprocesses the DataFrame data. It performs feature scaling using Min-Max scaling, standardization using Z-score normalization, and log transformation. It then handles missing values using the handle_missing_values function with imputation strategy set to 'mean'. Finally, it prints the preprocessed data using the print_table function and returns the preprocessed DataFrame."
      ],
      "metadata": {
        "id": "tv_CehQwM2e0"
      }
    },
    {
      "cell_type": "code",
      "execution_count": null,
      "metadata": {
        "id": "SN-1GL5aJb7t"
      },
      "outputs": [],
      "source": [
        "sma_periods = [5, 20, 50]\n",
        "ema_periods = [5, 20, 50]\n",
        "rsi_periods = [14, 28]\n",
        "macd_periods = [(12, 26), (5, 35), (10, 50)]\n",
        "bb_periods = [(20, 2)]\n",
        "stoch_periods = [(14, 3, 3)]\n",
        "cci_periods = [20]\n",
        "\n",
        "new_predictors = []\n",
        "\n",
        "for period in sma_periods:\n",
        "    column = f\"SMA_{period}\"\n",
        "    sp500[column] = sp500[\"Close\"].rolling(window=period).mean()\n",
        "    new_predictors.append(column)\n",
        "\n",
        "for period in ema_periods:\n",
        "    column = f\"EMA_{period}\"\n",
        "    sp500[column] = sp500[\"Close\"].ewm(span=period).mean()\n",
        "    new_predictors.append(column)\n",
        "\n",
        "for period1, period2 in macd_periods:\n",
        "    ema1 = sp500[\"Close\"].ewm(span=period1).mean()\n",
        "    ema2 = sp500[\"Close\"].ewm(span=period2).mean()\n",
        "    macd = ema1 - ema2\n",
        "    signal = macd.ewm(span=9).mean()\n",
        "    column = f\"MACD_{period1}_{period2}\"\n",
        "    sp500[column] = macd - signal\n",
        "    new_predictors.append(column)\n",
        "\n",
        "for period, std in bb_periods:\n",
        "    upper_band = sp500[\"Close\"].rolling(window=period).mean() + std * sp500[\"Close\"].rolling(window=period).std()\n",
        "    lower_band = sp500[\"Close\"].rolling(window=period).mean() - std * sp500[\"Close\"].rolling(window=period).std()\n",
        "    column = f\"BB_{period}\"\n",
        "    sp500[column] = (sp500[\"Close\"] - lower_band) / (upper_band - lower_band)\n",
        "    new_predictors.append(column)\n",
        "\n",
        "for k, d, period in stoch_periods:\n",
        "    low_min = sp500[\"Low\"].rolling(window=period).min()\n",
        "    high_max = sp500[\"High\"].rolling(window=period).max()\n",
        "    stoch_k = (sp500[\"Close\"] - low_min) / (high_max - low_min) * 100\n",
        "    stoch_d = stoch_k.rolling(window=d).mean()\n",
        "    column = f\"Stoch_{k}_{d}_{period}\"\n",
        "    sp500[column] = (stoch_k - stoch_d) / 100\n",
        "    new_predictors.append(column)\n",
        "\n",
        "for period in cci_periods:\n",
        "    tp = (sp500[\"High\"] + sp500[\"Low\"] + sp500[\"Close\"]) / 3\n",
        "    sma = tp.rolling(window=period).mean()\n",
        "    md = (tp - sma).abs().rolling(window=period).mean()\n",
        "    cci = (tp - sma) / (0.015 * md)\n",
        "    column = f\"CCI_{period}\"\n",
        "    sp500[column] = cci\n",
        "    new_predictors.append(column)\n",
        "  \n",
        "sp500 = sp500.dropna(subset=sp500.columns[sp500.columns != \"Tomorrow\"])\n"
      ]
    },
    {
      "cell_type": "markdown",
      "source": [
        "sma_periods: A list of periods for calculating the Simple Moving Average (SMA).\n",
        "\n",
        "ema_periods: A list of periods for calculating the Exponential Moving Average (EMA).\n",
        "\n",
        "rsi_periods: A list of periods for calculating the Relative Strength Index (RSI).\n",
        "\n",
        "macd_periods: A list of tuples representing periods for calculating the Moving \n",
        "\n",
        "Average Convergence Divergence (MACD). Each tuple contains two periods: fast and slow.\n",
        "\n",
        "bb_periods: A list of tuples representing periods and standard deviations for calculating the Bollinger Bands (BB).\n",
        "\n",
        "stoch_periods: A list of tuples representing periods and smoothing factors for calculating the Stochastic Oscillator (Stoch).\n",
        "\n",
        "cci_periods: A list of periods for calculating the Commodity Channel Index (CCI).\n",
        "\n",
        "new_predictors: An empty list to store the names of the newly created predictor columns."
      ],
      "metadata": {
        "id": "DznKqtgQNJWL"
      }
    },
    {
      "cell_type": "code",
      "execution_count": null,
      "metadata": {
        "id": "8b3ODCz5JiLI"
      },
      "outputs": [],
      "source": [
        "from sklearn.ensemble import RandomForestClassifier\n",
        "\n",
        "\n",
        "\n",
        "best_params = {'max_depth': 6, 'max_features': 17, 'min_samples_leaf': 91, 'min_samples_split': 184, 'n_estimators': 481}\n",
        "\n",
        "\n",
        "model = RandomForestClassifier(\n",
        "    n_estimators=best_params['n_estimators'],\n",
        "    max_features=best_params['max_features'],\n",
        "    min_samples_split=best_params['min_samples_split'],\n",
        "    min_samples_leaf=best_params['min_samples_leaf'],\n",
        "    max_depth=best_params['max_depth']\n",
        ")\n",
        "\n",
        "model = RandomForestClassifier(max_depth= 6, max_features= 17, min_samples_leaf= 91, min_samples_split= 184, n_estimators= 481)"
      ]
    },
    {
      "cell_type": "markdown",
      "source": [
        "n_estimators: The number of decision trees in the random forest.\n",
        "\n",
        "max_features: The maximum number of features considered when splitting a node.\n",
        "\n",
        "min_samples_split: The minimum number of samples required to split an internal node.\n",
        "\n",
        "min_samples_leaf: The minimum number of samples required to be at a leaf node.\n",
        "\n",
        "max_depth: The maximum depth of the decision trees."
      ],
      "metadata": {
        "id": "yhkaBIfcOeO1"
      }
    },
    {
      "cell_type": "code",
      "execution_count": null,
      "metadata": {
        "id": "A3hXcLbjJj5D"
      },
      "outputs": [],
      "source": [
        "def predict(train, test, predictors, model):\n",
        "    model.fit(train[predictors], train[\"Target\"])\n",
        "    preds = model.predict_proba(test[predictors])[:,1]\n",
        "    preds[preds >= .6] = 1\n",
        "    preds[preds < .6] = 0\n",
        "    preds = pd.Series(preds, index=test.index, name=\"Predictions\")\n",
        "    combined = pd.concat([test[\"Target\"], preds], axis=1)\n",
        "    return combined\n",
        "\n",
        "def backtest(data, model, predictors, start=2500, step=250):\n",
        "    all_predictions = []\n",
        "    precision_scores = []\n",
        "    recall_scores = []\n",
        "\n",
        "    for i in range(start, data.shape[0], step):\n",
        "        train = data.iloc[0:i].copy()\n",
        "        test = data.iloc[i:(i+step)].copy()\n",
        "        predictions = predict(train, test, predictors, model)\n",
        "        precision = precision_score(predictions[\"Target\"], predictions[\"Predictions\"])\n",
        "        recall = recall_score(predictions[\"Target\"], predictions[\"Predictions\"])\n",
        "        precision_scores.append(precision)\n",
        "        recall_scores.append(recall)\n",
        "        all_predictions.append(predictions)\n",
        "    \n",
        "    # Compute average precision and recall scores\n",
        "    avg_precision = sum(precision_scores) / len(precision_scores)\n",
        "    avg_recall = sum(recall_scores) / len(recall_scores)\n",
        "    print(f\"Average precision score: {avg_precision}\")\n",
        "    print(f\"Average recall score: {avg_recall}\")\n",
        "    \n",
        "    return pd.concat(all_predictions)"
      ]
    },
    {
      "cell_type": "markdown",
      "source": [
        "predict function:\n",
        "\n",
        "Fits a model using the train dataset and specified predictors.\n",
        "Makes predictions on the test dataset using predict_proba.\n",
        "Thresholds the predicted probabilities at 0.6 to classify them as class 1 or class 0.\n",
        "Returns a DataFrame combining the actual target values and the predictions.\n",
        "\n",
        "backtest function:\n",
        "\n",
        "Performs rolling window backtesting on the data DataFrame.\n",
        "Splits the data into training and testing sets based on start and step parameters.\n",
        "Calls the predict function to make predictions on the testing set using the training set and predictors.\n",
        "Computes precision and recall scores for the predictions.\n",
        "Returns a concatenated DataFrame with predictions and actual target values for each iteration.\n",
        "Computes average precision and recall scores."
      ],
      "metadata": {
        "id": "Iuvpzm7uO-ii"
      }
    },
    {
      "cell_type": "code",
      "execution_count": null,
      "metadata": {
        "id": "8qphVVcmuf-_"
      },
      "outputs": [],
      "source": []
    },
    {
      "cell_type": "code",
      "execution_count": null,
      "metadata": {
        "colab": {
          "base_uri": "https://localhost:8080/"
        },
        "id": "_ep7bW0dJnFA",
        "outputId": "10543900-fe14-457b-8021-08e9addd7bc0"
      },
      "outputs": [
        {
          "output_type": "stream",
          "name": "stderr",
          "text": [
            "/usr/local/lib/python3.10/dist-packages/sklearn/metrics/_classification.py:1344: UndefinedMetricWarning: Precision is ill-defined and being set to 0.0 due to no predicted samples. Use `zero_division` parameter to control this behavior.\n",
            "  _warn_prf(average, modifier, msg_start, len(result))\n",
            "/usr/local/lib/python3.10/dist-packages/sklearn/metrics/_classification.py:1344: UndefinedMetricWarning: Precision is ill-defined and being set to 0.0 due to no predicted samples. Use `zero_division` parameter to control this behavior.\n",
            "  _warn_prf(average, modifier, msg_start, len(result))\n",
            "/usr/local/lib/python3.10/dist-packages/sklearn/metrics/_classification.py:1344: UndefinedMetricWarning: Precision is ill-defined and being set to 0.0 due to no predicted samples. Use `zero_division` parameter to control this behavior.\n",
            "  _warn_prf(average, modifier, msg_start, len(result))\n",
            "/usr/local/lib/python3.10/dist-packages/sklearn/metrics/_classification.py:1344: UndefinedMetricWarning: Precision is ill-defined and being set to 0.0 due to no predicted samples. Use `zero_division` parameter to control this behavior.\n",
            "  _warn_prf(average, modifier, msg_start, len(result))\n",
            "/usr/local/lib/python3.10/dist-packages/sklearn/metrics/_classification.py:1344: UndefinedMetricWarning: Precision is ill-defined and being set to 0.0 due to no predicted samples. Use `zero_division` parameter to control this behavior.\n",
            "  _warn_prf(average, modifier, msg_start, len(result))\n"
          ]
        },
        {
          "output_type": "stream",
          "name": "stdout",
          "text": [
            "Average precision score: 0.4358849275245274\n",
            "Average recall score: 0.051052900813678026\n",
            "Precision score: 0.5555555555555556\n"
          ]
        },
        {
          "output_type": "stream",
          "name": "stderr",
          "text": [
            "/usr/local/lib/python3.10/dist-packages/sklearn/metrics/_classification.py:1344: UndefinedMetricWarning: Precision is ill-defined and being set to 0.0 due to no predicted samples. Use `zero_division` parameter to control this behavior.\n",
            "  _warn_prf(average, modifier, msg_start, len(result))\n"
          ]
        }
      ],
      "source": [
        "from sklearn.metrics import precision_score, recall_score\n",
        "\n",
        "\n",
        "predictions = backtest(sp500, model, new_predictors)\n",
        "precision = precision_score(predictions[\"Target\"], predictions[\"Predictions\"])\n",
        "print(f\"Precision score: {precision}\")\n"
      ]
    },
    {
      "cell_type": "markdown",
      "source": [
        " backtesting using the backtest function, obtains predictions, calculates the precision score, and prints it."
      ],
      "metadata": {
        "id": "BHsTJ8kGPW43"
      }
    },
    {
      "cell_type": "code",
      "execution_count": null,
      "metadata": {
        "id": "BDIk6DaAJp_U"
      },
      "outputs": [],
      "source": [
        "\n",
        "predictions"
      ]
    },
    {
      "cell_type": "code",
      "execution_count": null,
      "metadata": {
        "id": "ieQNLEL5J3lT",
        "colab": {
          "base_uri": "https://localhost:8080/",
          "height": 564
        },
        "outputId": "6d9d5603-7218-4749-c45f-66392f8456a0"
      },
      "outputs": [
        {
          "output_type": "display_data",
          "data": {
            "text/plain": [
              "<Figure size 1400x600 with 1 Axes>"
            ],
            "image/png": "[encoded data removed]"
          },
          "metadata": {}
        }
      ],
      "source": [
        "import matplotlib.pyplot as plt\n",
        "\n",
        "# Plot the actual closing prices\n",
        "plt.figure(figsize=(14, 6))\n",
        "plt.plot(sp500.index, sp500[\"Close\"], label=\"Close\", linewidth=1, alpha=0.5)\n",
        "plt.xlabel(\"Date\")\n",
        "plt.ylabel(\"Closing Price\")\n",
        "plt.title(\"S&P 500 Closing Price with Buy (Green) and Sell (Red) Signals\")\n",
        "\n",
        "# Add the predictions as green and red labels for increase and decrease, respectively\n",
        "for date, actual, prediction in zip(predictions.index, predictions[\"Target\"], predictions[\"Predictions\"]):\n",
        "    if actual == 1 and prediction == 1:\n",
        "        plt.scatter(date, sp500.loc[date, \"Close\"], color=\"green\", marker=\"^\", label=\"Buy\")\n",
        "    elif actual == 0 and prediction == 0:\n",
        "        plt.scatter(date, sp500.loc[date, \"Close\"], color=\"red\", marker=\"v\", label=\"Sell\")\n",
        "\n",
        "# Remove duplicate legend entries\n",
        "handles, labels = plt.gca().get_legend_handles_labels()\n",
        "unique = [(h, l) for i, (h, l) in enumerate(zip(handles, labels)) if l not in labels[:i]]\n",
        "plt.legend(*zip(*unique))\n",
        "\n",
        "plt.show()\n"
      ]
    },
    {
      "cell_type": "markdown",
      "source": [],
      "metadata": {
        "id": "KBBnKY7nRTxp"
      }
    },
    {
      "cell_type": "markdown",
      "source": [
        "the code generates a plot of the S&P 500 closing prices and overlays green and red markers representing \"Buy\" and \"Sell\" signals, respectively, based on the predictions."
      ],
      "metadata": {
        "id": "UTO7gHD5RGeh"
      }
    },
    {
      "cell_type": "code",
      "execution_count": null,
      "metadata": {
        "id": "I_y7g962LjbD"
      },
      "outputs": [],
      "source": [
        "import matplotlib.pyplot as plt\n",
        "\n",
        "# Get user input for the number of days\n",
        "num_days = int(input(\"Enter the number of days to display: \"))\n",
        "\n",
        "# Filter the data and predictions for the specified number of days\n",
        "last_n_days_sp500 = sp500.iloc[-num_days:]\n",
        "last_n_days_predictions = predictions.iloc[-num_days:]\n",
        "\n",
        "# Plot the actual closing prices\n",
        "plt.figure(figsize=(14, 6))\n",
        "plt.plot(last_n_days_sp500.index, last_n_days_sp500[\"Close\"], label=\"Close\", linewidth=1, alpha=0.5)\n",
        "plt.xlabel(\"Date\")\n",
        "plt.ylabel(\"Closing Price\")\n",
        "plt.title(f\"S&P 500 Closing Price with Buy (Green) and Sell (Red) Signals (Last {num_days} Days)\")\n",
        "\n",
        "# Add the predictions as green and red labels for increase and decrease, respectively\n",
        "for date, actual, prediction in zip(last_n_days_predictions.index, last_n_days_predictions[\"Target\"], last_n_days_predictions[\"Predictions\"]):\n",
        "    if actual == 1 and prediction == 1:\n",
        "        plt.scatter(date, last_n_days_sp500.loc[date, \"Close\"], color=\"green\", marker=\"^\", label=\"Buy\")\n",
        "    elif actual == 0 and prediction == 0:\n",
        "        plt.scatter(date, last_n_days_sp500.loc[date, \"Close\"], color=\"red\", marker=\"v\", label=\"Sell\")\n",
        "\n",
        "# Remove duplicate legend entries\n",
        "handles, labels = plt.gca().get_legend_handles_labels()\n",
        "unique = [(h, l) for i, (h, l) in enumerate(zip(handles, labels)) if l not in labels[:i]]\n",
        "plt.legend(*zip(*unique))\n",
        "\n",
        "plt.show()\n"
      ]
    },
    {
      "cell_type": "markdown",
      "source": [
        " the code prompts the user to enter the number of days to display, filters the data and predictions for the specified number of days, and generates a plot of the S&P 500 closing prices and overlays green and red markers representing \"Buy\" and \"Sell\" signals, respectively, for the last num_days days."
      ],
      "metadata": {
        "id": "q2UeiNaXRlQU"
      }
    },
    {
      "cell_type": "code",
      "execution_count": null,
      "metadata": {
        "id": "j9krV77IMZs_"
      },
      "outputs": [],
      "source": [
        "\n"
      ]
    },
    {
      "cell_type": "code",
      "execution_count": null,
      "metadata": {
        "id": "EnkCvJHRwTmG",
        "colab": {
          "base_uri": "https://localhost:8080/"
        },
        "outputId": "2cd60164-601d-4221-e822-d70907678c7d"
      },
      "outputs": [
        {
          "output_type": "stream",
          "name": "stdout",
          "text": [
            "Fitting 3 folds for each of 10 candidates, totalling 30 fits\n"
          ]
        }
      ],
      "source": [
        "from sklearn.model_selection import RandomizedSearchCV\n",
        "from scipy.stats import randint\n",
        "\n",
        "# Define the parameter space to search over\n",
        "param_dist = {\n",
        "    \"n_estimators\": randint(200, 1000),\n",
        "    \"max_features\": randint(5, 20),\n",
        "    \"min_samples_split\": randint(50, 200),\n",
        "    \"min_samples_leaf\": randint(20, 100),\n",
        "    \"max_depth\": randint(5, 20)\n",
        "}\n",
        "\n",
        "# Create a RandomizedSearchCV object\n",
        "search = RandomizedSearchCV(\n",
        "    estimator=RandomForestClassifier(),\n",
        "    param_distributions=param_dist,\n",
        "    n_iter=10,\n",
        "    scoring=\"precision\",\n",
        "    cv=3,\n",
        "    verbose=2,\n",
        "    random_state=1,\n",
        "    n_jobs=-1\n",
        ")\n",
        "\n",
        "# Perform the search\n",
        "search.fit(sp500[new_predictors], sp500[\"Target\"])\n",
        "\n",
        "# Print the best hyperparameters and corresponding score\n",
        "print(f\"Best score: {search.best_score_}\")\n",
        "print(f\"Best parameters: {search.best_params_}\")\n",
        "\n"
      ]
    },
    {
      "cell_type": "code",
      "execution_count": null,
      "metadata": {
        "id": "Tiy7jhMFy40M"
      },
      "outputs": [],
      "source": [
        "from sklearn.model_selection import GridSearchCV\n",
        "\n",
        "# Define the grid of possible hyperparameters\n",
        "param_grid = {\n",
        "    'n_estimators': [100, 500, 1000],\n",
        "    'max_features': ['auto', 'sqrt'],\n",
        "    'max_depth': [5, 10, 20, None],\n",
        "    'min_samples_split': [2, 5, 10],\n",
        "    'min_samples_leaf': [1, 2, 4],\n",
        "    'bootstrap': [True, False]\n",
        "}\n",
        "\n",
        "# Create the random forest classifier\n",
        "model = RandomForestClassifier()\n",
        "\n",
        "# Use grid search to find the best combination of hyperparameters\n",
        "grid_search = GridSearchCV(estimator=model, param_grid=param_grid, cv=3, verbose=2)\n",
        "grid_search.fit(X_train, y_train)\n",
        "\n",
        "# Print the best combination of hyperparameters\n",
        "print(grid_search.best_params_)\n"
      ]
    }
  ],
  "metadata": {
    "colab": {
      "provenance": []
    },
    "kernelspec": {
      "display_name": "Python 3",
      "name": "python3"
    },
    "language_info": {
      "codemirror_mode": {
        "name": "ipython",
        "version": 3
      },
      "file_extension": ".py",
      "mimetype": "text/x-python",
      "name": "python",
      "nbconvert_exporter": "python",
      "pygments_lexer": "ipython3",
      "version": "3.11.2"
    }
  },
  "nbformat": 4,
  "nbformat_minor": 0
}